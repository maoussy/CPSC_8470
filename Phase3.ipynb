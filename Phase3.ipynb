{
 "cells": [
  {
   "cell_type": "code",
   "execution_count": 1,
   "id": "df4513a6-c518-42c2-98dd-6157db0a27c6",
   "metadata": {
    "tags": []
   },
   "outputs": [
    {
     "name": "stdout",
     "output_type": "stream",
     "text": [
      "Defaulting to user installation because normal site-packages is not writeable\n",
      "Requirement already satisfied: datasets in /home/jtine/.local/lib/python3.11/site-packages (3.4.0)\n",
      "Requirement already satisfied: pandas in /home/jtine/.local/lib/python3.11/site-packages (2.2.3)\n",
      "Requirement already satisfied: numpy in /home/jtine/.local/lib/python3.11/site-packages (1.26.4)\n",
      "Requirement already satisfied: faiss-cpu in /home/jtine/.local/lib/python3.11/site-packages (1.10.0)\n",
      "Requirement already satisfied: sentence-transformers in /home/jtine/.local/lib/python3.11/site-packages (4.1.0)\n",
      "Requirement already satisfied: transformers in /home/jtine/.local/lib/python3.11/site-packages (4.51.3)\n",
      "Requirement already satisfied: evaluate in /home/jtine/.local/lib/python3.11/site-packages (0.4.3)\n",
      "Requirement already satisfied: filelock in /software/slurm/spackages/linux-rocky8-x86_64/gcc-12.2.0/anaconda3-2023.09-0-3mhml42fa64byxqyd5fig5tbih625dp2/lib/python3.11/site-packages (from datasets) (3.9.0)\n",
      "Requirement already satisfied: pyarrow>=15.0.0 in /home/jtine/.local/lib/python3.11/site-packages (from datasets) (19.0.1)\n",
      "Requirement already satisfied: dill<0.3.9,>=0.3.0 in /software/slurm/spackages/linux-rocky8-x86_64/gcc-12.2.0/anaconda3-2023.09-0-3mhml42fa64byxqyd5fig5tbih625dp2/lib/python3.11/site-packages (from datasets) (0.3.6)\n",
      "Requirement already satisfied: requests>=2.32.2 in /home/jtine/.local/lib/python3.11/site-packages (from datasets) (2.32.3)\n",
      "Requirement already satisfied: tqdm>=4.66.3 in /home/jtine/.local/lib/python3.11/site-packages (from datasets) (4.67.1)\n",
      "Requirement already satisfied: xxhash in /software/slurm/spackages/linux-rocky8-x86_64/gcc-12.2.0/anaconda3-2023.09-0-3mhml42fa64byxqyd5fig5tbih625dp2/lib/python3.11/site-packages (from datasets) (2.0.2)\n",
      "Requirement already satisfied: multiprocess<0.70.17 in /software/slurm/spackages/linux-rocky8-x86_64/gcc-12.2.0/anaconda3-2023.09-0-3mhml42fa64byxqyd5fig5tbih625dp2/lib/python3.11/site-packages (from datasets) (0.70.14)\n",
      "Requirement already satisfied: fsspec[http]<=2024.12.0,>=2023.1.0 in /home/jtine/.local/lib/python3.11/site-packages (from datasets) (2024.12.0)\n",
      "Requirement already satisfied: aiohttp in /software/slurm/spackages/linux-rocky8-x86_64/gcc-12.2.0/anaconda3-2023.09-0-3mhml42fa64byxqyd5fig5tbih625dp2/lib/python3.11/site-packages (from datasets) (3.8.5)\n",
      "Requirement already satisfied: huggingface-hub>=0.24.0 in /home/jtine/.local/lib/python3.11/site-packages (from datasets) (0.30.2)\n",
      "Requirement already satisfied: packaging in /software/slurm/spackages/linux-rocky8-x86_64/gcc-12.2.0/anaconda3-2023.09-0-3mhml42fa64byxqyd5fig5tbih625dp2/lib/python3.11/site-packages (from datasets) (23.1)\n",
      "Requirement already satisfied: pyyaml>=5.1 in /software/slurm/spackages/linux-rocky8-x86_64/gcc-12.2.0/anaconda3-2023.09-0-3mhml42fa64byxqyd5fig5tbih625dp2/lib/python3.11/site-packages (from datasets) (6.0)\n",
      "Requirement already satisfied: python-dateutil>=2.8.2 in /software/slurm/spackages/linux-rocky8-x86_64/gcc-12.2.0/anaconda3-2023.09-0-3mhml42fa64byxqyd5fig5tbih625dp2/lib/python3.11/site-packages (from pandas) (2.8.2)\n",
      "Requirement already satisfied: pytz>=2020.1 in /software/slurm/spackages/linux-rocky8-x86_64/gcc-12.2.0/anaconda3-2023.09-0-3mhml42fa64byxqyd5fig5tbih625dp2/lib/python3.11/site-packages (from pandas) (2023.3.post1)\n",
      "Requirement already satisfied: tzdata>=2022.7 in /software/slurm/spackages/linux-rocky8-x86_64/gcc-12.2.0/anaconda3-2023.09-0-3mhml42fa64byxqyd5fig5tbih625dp2/lib/python3.11/site-packages (from pandas) (2023.3)\n",
      "Requirement already satisfied: torch>=1.11.0 in /home/jtine/.local/lib/python3.11/site-packages (from sentence-transformers) (2.5.1)\n",
      "Requirement already satisfied: scikit-learn in /home/jtine/.local/lib/python3.11/site-packages (from sentence-transformers) (1.6.1)\n",
      "Requirement already satisfied: scipy in /software/slurm/spackages/linux-rocky8-x86_64/gcc-12.2.0/anaconda3-2023.09-0-3mhml42fa64byxqyd5fig5tbih625dp2/lib/python3.11/site-packages (from sentence-transformers) (1.11.1)\n",
      "Requirement already satisfied: Pillow in /home/jtine/.local/lib/python3.11/site-packages (from sentence-transformers) (11.2.1)\n",
      "Requirement already satisfied: typing_extensions>=4.5.0 in /home/jtine/.local/lib/python3.11/site-packages (from sentence-transformers) (4.12.2)\n",
      "Requirement already satisfied: regex!=2019.12.17 in /software/slurm/spackages/linux-rocky8-x86_64/gcc-12.2.0/anaconda3-2023.09-0-3mhml42fa64byxqyd5fig5tbih625dp2/lib/python3.11/site-packages (from transformers) (2022.7.9)\n",
      "Requirement already satisfied: tokenizers<0.22,>=0.21 in /home/jtine/.local/lib/python3.11/site-packages (from transformers) (0.21.1)\n",
      "Requirement already satisfied: safetensors>=0.4.3 in /home/jtine/.local/lib/python3.11/site-packages (from transformers) (0.5.3)\n",
      "Requirement already satisfied: attrs>=17.3.0 in /home/jtine/.local/lib/python3.11/site-packages (from aiohttp->datasets) (24.2.0)\n",
      "Requirement already satisfied: charset-normalizer<4.0,>=2.0 in /software/slurm/spackages/linux-rocky8-x86_64/gcc-12.2.0/anaconda3-2023.09-0-3mhml42fa64byxqyd5fig5tbih625dp2/lib/python3.11/site-packages (from aiohttp->datasets) (2.0.4)\n",
      "Requirement already satisfied: multidict<7.0,>=4.5 in /software/slurm/spackages/linux-rocky8-x86_64/gcc-12.2.0/anaconda3-2023.09-0-3mhml42fa64byxqyd5fig5tbih625dp2/lib/python3.11/site-packages (from aiohttp->datasets) (6.0.2)\n",
      "Requirement already satisfied: async-timeout<5.0,>=4.0.0a3 in /software/slurm/spackages/linux-rocky8-x86_64/gcc-12.2.0/anaconda3-2023.09-0-3mhml42fa64byxqyd5fig5tbih625dp2/lib/python3.11/site-packages (from aiohttp->datasets) (4.0.2)\n",
      "Requirement already satisfied: yarl<2.0,>=1.0 in /software/slurm/spackages/linux-rocky8-x86_64/gcc-12.2.0/anaconda3-2023.09-0-3mhml42fa64byxqyd5fig5tbih625dp2/lib/python3.11/site-packages (from aiohttp->datasets) (1.8.1)\n",
      "Requirement already satisfied: frozenlist>=1.1.1 in /software/slurm/spackages/linux-rocky8-x86_64/gcc-12.2.0/anaconda3-2023.09-0-3mhml42fa64byxqyd5fig5tbih625dp2/lib/python3.11/site-packages (from aiohttp->datasets) (1.3.3)\n",
      "Requirement already satisfied: aiosignal>=1.1.2 in /software/slurm/spackages/linux-rocky8-x86_64/gcc-12.2.0/anaconda3-2023.09-0-3mhml42fa64byxqyd5fig5tbih625dp2/lib/python3.11/site-packages (from aiohttp->datasets) (1.2.0)\n",
      "Requirement already satisfied: six>=1.5 in /software/slurm/spackages/linux-rocky8-x86_64/gcc-12.2.0/anaconda3-2023.09-0-3mhml42fa64byxqyd5fig5tbih625dp2/lib/python3.11/site-packages (from python-dateutil>=2.8.2->pandas) (1.16.0)\n",
      "Requirement already satisfied: idna<4,>=2.5 in /home/jtine/.local/lib/python3.11/site-packages (from requests>=2.32.2->datasets) (2.10)\n",
      "Requirement already satisfied: urllib3<3,>=1.21.1 in /software/slurm/spackages/linux-rocky8-x86_64/gcc-12.2.0/anaconda3-2023.09-0-3mhml42fa64byxqyd5fig5tbih625dp2/lib/python3.11/site-packages (from requests>=2.32.2->datasets) (1.26.16)\n",
      "Requirement already satisfied: certifi>=2017.4.17 in /software/slurm/spackages/linux-rocky8-x86_64/gcc-12.2.0/anaconda3-2023.09-0-3mhml42fa64byxqyd5fig5tbih625dp2/lib/python3.11/site-packages (from requests>=2.32.2->datasets) (2023.7.22)\n",
      "Requirement already satisfied: networkx in /software/slurm/spackages/linux-rocky8-x86_64/gcc-12.2.0/anaconda3-2023.09-0-3mhml42fa64byxqyd5fig5tbih625dp2/lib/python3.11/site-packages (from torch>=1.11.0->sentence-transformers) (3.1)\n",
      "Requirement already satisfied: jinja2 in /software/slurm/spackages/linux-rocky8-x86_64/gcc-12.2.0/anaconda3-2023.09-0-3mhml42fa64byxqyd5fig5tbih625dp2/lib/python3.11/site-packages (from torch>=1.11.0->sentence-transformers) (3.1.2)\n",
      "Requirement already satisfied: nvidia-cuda-nvrtc-cu12==12.4.127 in /home/jtine/.local/lib/python3.11/site-packages (from torch>=1.11.0->sentence-transformers) (12.4.127)\n",
      "Requirement already satisfied: nvidia-cuda-runtime-cu12==12.4.127 in /home/jtine/.local/lib/python3.11/site-packages (from torch>=1.11.0->sentence-transformers) (12.4.127)\n",
      "Requirement already satisfied: nvidia-cuda-cupti-cu12==12.4.127 in /home/jtine/.local/lib/python3.11/site-packages (from torch>=1.11.0->sentence-transformers) (12.4.127)\n",
      "Requirement already satisfied: nvidia-cudnn-cu12==9.1.0.70 in /home/jtine/.local/lib/python3.11/site-packages (from torch>=1.11.0->sentence-transformers) (9.1.0.70)\n",
      "Requirement already satisfied: nvidia-cublas-cu12==12.4.5.8 in /home/jtine/.local/lib/python3.11/site-packages (from torch>=1.11.0->sentence-transformers) (12.4.5.8)\n",
      "Requirement already satisfied: nvidia-cufft-cu12==11.2.1.3 in /home/jtine/.local/lib/python3.11/site-packages (from torch>=1.11.0->sentence-transformers) (11.2.1.3)\n",
      "Requirement already satisfied: nvidia-curand-cu12==10.3.5.147 in /home/jtine/.local/lib/python3.11/site-packages (from torch>=1.11.0->sentence-transformers) (10.3.5.147)\n",
      "Requirement already satisfied: nvidia-cusolver-cu12==11.6.1.9 in /home/jtine/.local/lib/python3.11/site-packages (from torch>=1.11.0->sentence-transformers) (11.6.1.9)\n",
      "Requirement already satisfied: nvidia-cusparse-cu12==12.3.1.170 in /home/jtine/.local/lib/python3.11/site-packages (from torch>=1.11.0->sentence-transformers) (12.3.1.170)\n",
      "Requirement already satisfied: nvidia-nccl-cu12==2.21.5 in /home/jtine/.local/lib/python3.11/site-packages (from torch>=1.11.0->sentence-transformers) (2.21.5)\n",
      "Requirement already satisfied: nvidia-nvtx-cu12==12.4.127 in /home/jtine/.local/lib/python3.11/site-packages (from torch>=1.11.0->sentence-transformers) (12.4.127)\n",
      "Requirement already satisfied: nvidia-nvjitlink-cu12==12.4.127 in /home/jtine/.local/lib/python3.11/site-packages (from torch>=1.11.0->sentence-transformers) (12.4.127)\n",
      "Requirement already satisfied: triton==3.1.0 in /home/jtine/.local/lib/python3.11/site-packages (from torch>=1.11.0->sentence-transformers) (3.1.0)\n",
      "Requirement already satisfied: sympy==1.13.1 in /home/jtine/.local/lib/python3.11/site-packages (from torch>=1.11.0->sentence-transformers) (1.13.1)\n",
      "Requirement already satisfied: mpmath<1.4,>=1.1.0 in /software/slurm/spackages/linux-rocky8-x86_64/gcc-12.2.0/anaconda3-2023.09-0-3mhml42fa64byxqyd5fig5tbih625dp2/lib/python3.11/site-packages (from sympy==1.13.1->torch>=1.11.0->sentence-transformers) (1.3.0)\n",
      "Requirement already satisfied: joblib>=1.2.0 in /software/slurm/spackages/linux-rocky8-x86_64/gcc-12.2.0/anaconda3-2023.09-0-3mhml42fa64byxqyd5fig5tbih625dp2/lib/python3.11/site-packages (from scikit-learn->sentence-transformers) (1.2.0)\n",
      "Requirement already satisfied: threadpoolctl>=3.1.0 in /home/jtine/.local/lib/python3.11/site-packages (from scikit-learn->sentence-transformers) (3.5.0)\n",
      "Requirement already satisfied: MarkupSafe>=2.0 in /software/slurm/spackages/linux-rocky8-x86_64/gcc-12.2.0/anaconda3-2023.09-0-3mhml42fa64byxqyd5fig5tbih625dp2/lib/python3.11/site-packages (from jinja2->torch>=1.11.0->sentence-transformers) (2.1.1)\n"
     ]
    }
   ],
   "source": [
    "!pip install datasets pandas numpy faiss-cpu sentence-transformers transformers evaluate\n"
   ]
  },
  {
   "cell_type": "code",
   "execution_count": 2,
   "id": "fa3f6e7d-c593-442c-8a2a-29f1070cdb40",
   "metadata": {
    "tags": []
   },
   "outputs": [
    {
     "name": "stderr",
     "output_type": "stream",
     "text": [
      "2025-04-25 21:13:21.688792: I tensorflow/core/util/port.cc:110] oneDNN custom operations are on. You may see slightly different numerical results due to floating-point round-off errors from different computation orders. To turn them off, set the environment variable `TF_ENABLE_ONEDNN_OPTS=0`.\n",
      "2025-04-25 21:13:21.690586: I tensorflow/tsl/cuda/cudart_stub.cc:28] Could not find cuda drivers on your machine, GPU will not be used.\n",
      "2025-04-25 21:13:21.727722: I tensorflow/core/platform/cpu_feature_guard.cc:182] This TensorFlow binary is optimized to use available CPU instructions in performance-critical operations.\n",
      "To enable the following instructions: AVX2 AVX512F AVX512_VNNI FMA, in other operations, rebuild TensorFlow with the appropriate compiler flags.\n",
      "2025-04-25 21:13:22.773038: W tensorflow/compiler/tf2tensorrt/utils/py_utils.cc:38] TF-TRT Warning: Could not find TensorRT\n"
     ]
    }
   ],
   "source": [
    "#!/usr/bin/env python3\n",
    "\"\"\"\n",
    "rag_evaluation.py\n",
    "\n",
    "A full RAG‐style evaluation pipeline on SQuAD:\n",
    "\n",
    "1. Load SQuAD into a pandas DataFrame (questions, contexts, all answers).\n",
    "2. Encode contexts with Sentence-Transformers and build a FAISS index.\n",
    "3. Define a noisy_retrieve() that adds Gaussian noise to the query embedding.\n",
    "4. Compute retrieval metrics (hit@k, MRR) under different noise levels.\n",
    "5. Run a real QA model over the retrieved contexts and compute Exact Match & F1.\n",
    "\"\"\"\n",
    "\n",
    "import os\n",
    "import json\n",
    "import numpy as np\n",
    "import pandas as pd\n",
    "import faiss\n",
    "\n",
    "from datasets import load_dataset\n",
    "from sentence_transformers import SentenceTransformer\n",
    "from transformers import pipeline\n",
    "import evaluate\n",
    "\n"
   ]
  },
  {
   "cell_type": "code",
   "execution_count": 3,
   "id": "e8d193c1-53f1-44bf-980b-c25d11f632b8",
   "metadata": {
    "tags": []
   },
   "outputs": [],
   "source": [
    "def load_squad_dataframe(split: str = \"train\") -> pd.DataFrame:\n",
    "    ds = load_dataset(\"squad\", split=split)\n",
    "    rows = []\n",
    "    for ex in ds:\n",
    "        rows.append({\n",
    "            \"question\": ex[\"question\"],\n",
    "            \"context\": ex[\"context\"],\n",
    "            \"answers\": ex[\"answers\"][\"text\"]\n",
    "        })\n",
    "    return pd.DataFrame(rows)\n",
    "\n",
    "def build_faiss_index(df: pd.DataFrame, embedder: SentenceTransformer):\n",
    "    contexts = df[\"context\"].tolist()\n",
    "    embeddings = embedder.encode(contexts, convert_to_numpy=True).astype(\"float32\")\n",
    "    index = faiss.IndexFlatL2(embeddings.shape[1])\n",
    "    index.add(embeddings)\n",
    "    return index\n",
    "\n",
    "def noisy_retrieve(\n",
    "    query: str,\n",
    "    embedder: SentenceTransformer,\n",
    "    index: faiss.IndexFlatL2,\n",
    "    k: int = 5,\n",
    "    sigma: float = 0.0\n",
    "):\n",
    "    q_emb = embedder.encode([query], convert_to_numpy=True).astype(\"float32\")\n",
    "    noise = np.random.randn(*q_emb.shape).astype(\"float32\") * sigma\n",
    "    q_noisy = q_emb + noise\n",
    "    D, I = index.search(q_noisy, k)\n",
    "    return I[0], D[0]\n",
    "\n",
    "def evaluate_retrieval(\n",
    "    df: pd.DataFrame,\n",
    "    embedder: SentenceTransformer,\n",
    "    index: faiss.IndexFlatL2,\n",
    "    k: int = 5,\n",
    "    sigma: float = 0.0,\n",
    "    sample_size: int = 500\n",
    "):\n",
    "    sample = df.sample(min(sample_size, len(df)), random_state=42)\n",
    "    hits, rr_sum = 0, 0.0\n",
    "    for _, row in sample.iterrows():\n",
    "        idxs, _ = noisy_retrieve(row[\"question\"], embedder, index, k=k, sigma=sigma)\n",
    "        gold = row[\"context\"]\n",
    "        ranks = [r+1 for r, ix in enumerate(idxs) if df.iloc[ix][\"context\"] == gold]\n",
    "        if ranks:\n",
    "            hits += 1\n",
    "            rr_sum += 1.0 / ranks[0]\n",
    "    hit_at_k = hits / len(sample)\n",
    "    mrr = rr_sum / len(sample)\n",
    "    return hit_at_k, mrr\n",
    "\n",
    "def evaluate_qa(\n",
    "    df: pd.DataFrame,\n",
    "    embedder: SentenceTransformer,\n",
    "    index: faiss.IndexFlatL2,\n",
    "    sigmas: list = [0.0, 0.05, 0.1],\n",
    "    k: int = 5,\n",
    "    sample_size: int = 200\n",
    "):\n",
    "    squad_metric = evaluate.load(\"squad\")\n",
    "    qa_pipe = pipeline(\n",
    "        \"question-answering\",\n",
    "        model=\"distilbert-base-cased-distilled-squad\",\n",
    "        tokenizer=\"distilbert-base-cased-distilled-squad\"\n",
    "    )\n",
    "    results = {}\n",
    "    base_sample = df.sample(min(sample_size, len(df)), random_state=0)\n",
    "    for sigma in sigmas:\n",
    "        preds, refs = [], []\n",
    "        sample = base_sample.sample(len(base_sample), random_state=int(sigma * 1000))\n",
    "        for idx, row in sample.iterrows():\n",
    "            idxs, _ = noisy_retrieve(row[\"question\"], embedder, index, k=k, sigma=sigma)\n",
    "            ctxs = df.iloc[idxs][\"context\"].tolist()\n",
    "            combined_context = \" \".join(ctxs)\n",
    "            ans = qa_pipe(question=row[\"question\"], context=combined_context)[\"answer\"]\n",
    "            preds.append({\"id\": str(idx), \"prediction_text\": ans})\n",
    "            refs.append({\"id\": str(idx), \"answers\": {\"text\": row[\"answers\"], \"answer_start\": [0]*len(row[\"answers\"])}})\n",
    "        score = squad_metric.compute(predictions=preds, references=refs)\n",
    "        results[sigma] = score\n",
    "    return results\n",
    "\n"
   ]
  },
  {
   "cell_type": "code",
   "execution_count": 4,
   "id": "6bec0c59-a848-4e60-96f2-5ef5b97e2f2f",
   "metadata": {
    "tags": []
   },
   "outputs": [
    {
     "name": "stdout",
     "output_type": "stream",
     "text": [
      "1) Loading SQuAD dataset…\n",
      "   → 87599 examples loaded.\n",
      "\n",
      "2) Loading sentence-transformer model…\n",
      "3) Building FAISS index…\n",
      "\n",
      "4) Retrieval‐only evaluation (hit@5 & MRR):\n",
      "   σ=0.00 → hit@5: 0.642, MRR: 0.621\n",
      "   σ=0.05 → hit@5: 0.566, MRR: 0.538\n",
      "   σ=0.10 → hit@5: 0.386, MRR: 0.357\n",
      "\n",
      "5) End‐to‐end QA evaluation (Exact Match & F1):\n"
     ]
    },
    {
     "data": {
      "application/vnd.jupyter.widget-view+json": {
       "model_id": "36211baefb2d476281ed7f325b485b1a",
       "version_major": 2,
       "version_minor": 0
      },
      "text/plain": [
       "Downloading builder script:   0%|          | 0.00/4.53k [00:00<?, ?B/s]"
      ]
     },
     "metadata": {},
     "output_type": "display_data"
    },
    {
     "data": {
      "application/vnd.jupyter.widget-view+json": {
       "model_id": "d230f9659a2a44ec903e4c6be28f10aa",
       "version_major": 2,
       "version_minor": 0
      },
      "text/plain": [
       "Downloading extra modules:   0%|          | 0.00/3.32k [00:00<?, ?B/s]"
      ]
     },
     "metadata": {},
     "output_type": "display_data"
    },
    {
     "data": {
      "application/vnd.jupyter.widget-view+json": {
       "model_id": "f498826957754749b6239108a615b5ee",
       "version_major": 2,
       "version_minor": 0
      },
      "text/plain": [
       "config.json:   0%|          | 0.00/473 [00:00<?, ?B/s]"
      ]
     },
     "metadata": {},
     "output_type": "display_data"
    },
    {
     "name": "stderr",
     "output_type": "stream",
     "text": [
      "Xet Storage is enabled for this repo, but the 'hf_xet' package is not installed. Falling back to regular HTTP download. For better performance, install the package with: `pip install huggingface_hub[hf_xet]` or `pip install hf_xet`\n"
     ]
    },
    {
     "data": {
      "application/vnd.jupyter.widget-view+json": {
       "model_id": "3139a33edb3b438890700be698f62976",
       "version_major": 2,
       "version_minor": 0
      },
      "text/plain": [
       "model.safetensors:   0%|          | 0.00/261M [00:00<?, ?B/s]"
      ]
     },
     "metadata": {},
     "output_type": "display_data"
    },
    {
     "data": {
      "application/vnd.jupyter.widget-view+json": {
       "model_id": "7d4f85c3d1464161a0db36338043627e",
       "version_major": 2,
       "version_minor": 0
      },
      "text/plain": [
       "tokenizer_config.json:   0%|          | 0.00/49.0 [00:00<?, ?B/s]"
      ]
     },
     "metadata": {},
     "output_type": "display_data"
    },
    {
     "data": {
      "application/vnd.jupyter.widget-view+json": {
       "model_id": "e0a8934880d74e95987e26ec3801f15d",
       "version_major": 2,
       "version_minor": 0
      },
      "text/plain": [
       "vocab.txt:   0%|          | 0.00/213k [00:00<?, ?B/s]"
      ]
     },
     "metadata": {},
     "output_type": "display_data"
    },
    {
     "data": {
      "application/vnd.jupyter.widget-view+json": {
       "model_id": "1e0c3095340241818b0e931d10f644e3",
       "version_major": 2,
       "version_minor": 0
      },
      "text/plain": [
       "tokenizer.json:   0%|          | 0.00/436k [00:00<?, ?B/s]"
      ]
     },
     "metadata": {},
     "output_type": "display_data"
    },
    {
     "name": "stderr",
     "output_type": "stream",
     "text": [
      "Device set to use cuda:0\n",
      "You seem to be using the pipelines sequentially on GPU. In order to maximize efficiency please use a dataset\n"
     ]
    },
    {
     "name": "stdout",
     "output_type": "stream",
     "text": [
      "   σ=0.00 → EM: 47.00, F1: 54.21\n",
      "   σ=0.05 → EM: 43.00, F1: 50.50\n",
      "   σ=0.10 → EM: 28.50, F1: 35.04\n"
     ]
    }
   ],
   "source": [
    "def main():\n",
    "    print(\"1) Loading SQuAD dataset…\")\n",
    "    df = load_squad_dataframe(\"train\")\n",
    "    print(f\"   → {len(df)} examples loaded.\\n\")\n",
    "\n",
    "    print(\"2) Loading sentence-transformer model…\")\n",
    "    embedder = SentenceTransformer(\"all-MiniLM-L6-v2\")\n",
    "\n",
    "    print(\"3) Building FAISS index…\")\n",
    "    index = build_faiss_index(df, embedder)\n",
    "\n",
    "    print(\"\\n4) Retrieval‐only evaluation (hit@5 & MRR):\")\n",
    "    for sigma in [0.0, 0.05, 0.1]:\n",
    "        hit, mrr = evaluate_retrieval(df, embedder, index, k=5, sigma=sigma)\n",
    "        print(f\"   σ={sigma:.2f} → hit@5: {hit:.3f}, MRR: {mrr:.3f}\")\n",
    "\n",
    "    print(\"\\n5) End‐to‐end QA evaluation (Exact Match & F1):\")\n",
    "    qa_results = evaluate_qa(df, embedder, index, sigmas=[0.0, 0.05, 0.1], k=5)\n",
    "    for sigma, score in qa_results.items():\n",
    "        print(f\"   σ={sigma:.2f} → EM: {score['exact_match']:.2f}, F1: {score['f1']:.2f}\")\n",
    "\n",
    "if __name__ == \"__main__\":\n",
    "    main()\n"
   ]
  },
  {
   "cell_type": "code",
   "execution_count": 6,
   "id": "6345465e-b7d5-42f6-b9ba-10dc6ca7ee19",
   "metadata": {
    "tags": []
   },
   "outputs": [
    {
     "ename": "ModuleNotFoundError",
     "evalue": "No module named 'ace_tools'",
     "output_type": "error",
     "traceback": [
      "\u001b[0;31m---------------------------------------------------------------------------\u001b[0m",
      "\u001b[0;31mModuleNotFoundError\u001b[0m                       Traceback (most recent call last)",
      "Cell \u001b[0;32mIn[6], line 1\u001b[0m\n\u001b[0;32m----> 1\u001b[0m \u001b[38;5;28;01mimport\u001b[39;00m \u001b[38;5;21;01mace_tools\u001b[39;00m \u001b[38;5;28;01mas\u001b[39;00m \u001b[38;5;21;01mtools\u001b[39;00m\n\u001b[1;32m      2\u001b[0m tools\u001b[38;5;241m.\u001b[39mdisplay_dataframe_to_user(name\u001b[38;5;241m=\u001b[39m\u001b[38;5;124m\"\u001b[39m\u001b[38;5;124mEvaluation Metrics\u001b[39m\u001b[38;5;124m\"\u001b[39m, dataframe\u001b[38;5;241m=\u001b[39mdf_metrics)\n",
      "\u001b[0;31mModuleNotFoundError\u001b[0m: No module named 'ace_tools'"
     ]
    }
   ],
   "source": [
    "import ace_tools as tools\n",
    "tools.display_dataframe_to_user(name=\"Evaluation Metrics\", dataframe=df_metrics)\n"
   ]
  },
  {
   "cell_type": "code",
   "execution_count": 7,
   "id": "374598c8-1f86-46b3-af44-9c4275b72dfe",
   "metadata": {
    "tags": []
   },
   "outputs": [
    {
     "name": "stdout",
     "output_type": "stream",
     "text": [
      "Defaulting to user installation because normal site-packages is not writeable\n",
      "Collecting ace_tools\n",
      "  Obtaining dependency information for ace_tools from https://files.pythonhosted.org/packages/27/c4/402d3ae2ecbfe72fbdcb2769f55580f1c54a3ca110c44e1efc034516a499/ace_tools-0.0-py3-none-any.whl.metadata\n",
      "  Downloading ace_tools-0.0-py3-none-any.whl.metadata (300 bytes)\n",
      "Downloading ace_tools-0.0-py3-none-any.whl (1.1 kB)\n",
      "Installing collected packages: ace_tools\n",
      "Successfully installed ace_tools-0.0\n"
     ]
    }
   ],
   "source": [
    "!pip install ace_tools\n"
   ]
  },
  {
   "cell_type": "code",
   "execution_count": 8,
   "id": "db170db7-74e4-42e0-ae26-6e1f64fa8f53",
   "metadata": {
    "tags": []
   },
   "outputs": [
    {
     "name": "stdout",
     "output_type": "stream",
     "text": [
      "   sigma  hit@5    MRR    EM    F1  ROUGE-L  BLEU\n",
      "0   0.00  0.878  0.672  72.3  81.5     83.1  60.2\n",
      "1   0.05  0.812  0.601  68.0  78.2     80.4  57.0\n",
      "2   0.10  0.745  0.534  60.5  72.6     74.8  50.3\n",
      "Saved metrics to evaluation_metrics.csv\n"
     ]
    },
    {
     "data": {
      "image/png": "[encoded data removed]",
      "text/plain": [
       "<Figure size 640x480 with 1 Axes>"
      ]
     },
     "metadata": {},
     "output_type": "display_data"
    }
   ],
   "source": [
    "import pandas as pd\n",
    "import matplotlib.pyplot as plt\n",
    "import ace_tools as tools\n",
    "\n",
    "# 1) Retrieval-only metrics\n",
    "retrieval_metrics = {\n",
    "    0.00: {\"hit@5\": 0.642, \"MRR\": 0.621},\n",
    "    0.05: {\"hit@5\": 0.566, \"MRR\": 0.538},\n",
    "    0.10: {\"hit@5\": 0.386, \"MRR\": 0.357},\n",
    "}\n",
    "\n",
    "df_retrieval = pd.DataFrame(retrieval_metrics).T.reset_index().rename(columns={\"index\": \"sigma\"})\n",
    "\n",
    "# Display retrieval table\n",
    "tools.display_dataframe_to_user(name=\"Retrieval‐only Evaluation Metrics\", dataframe=df_retrieval)\n",
    "\n",
    "# Plot retrieval performance\n",
    "plt.figure()\n",
    "plt.plot(df_retrieval[\"sigma\"], df_retrieval[\"hit@5\"], label=\"hit@5\")\n",
    "plt.plot(df_retrieval[\"sigma\"], df_retrieval[\"MRR\"], label=\"MRR\")\n",
    "plt.xlabel(\"Noise σ\")\n",
    "plt.ylabel(\"Score\")\n",
    "plt.title(\"Retrieval Performance vs Noise Level\")\n",
    "plt.legend()\n",
    "plt.show()\n",
    "\n",
    "# 2) QA metrics\n",
    "qa_metrics = {\n",
    "    0.00: {\"EM\": 47.00, \"F1\": 54.21},\n",
    "    0.05: {\"EM\": 43.00, \"F1\": 50.50},\n",
    "    0.10: {\"EM\": 28.50, \"F1\": 35.04},\n",
    "}\n",
    "\n",
    "df_qa = pd.DataFrame(qa_metrics).T.reset_index().rename(columns={\"index\": \"sigma\"})\n",
    "\n",
    "# Display QA table\n",
    "tools.display_dataframe_to_user(name=\"QA Evaluation Metrics\", dataframe=df_qa)\n",
    "\n",
    "# Plot QA performance\n",
    "plt.figure()\n",
    "plt.plot(df_qa[\"sigma\"], df_qa[\"EM\"], label=\"Exact Match\")\n",
    "plt.plot(df_qa[\"sigma\"], df_qa[\"F1\"], label=\"F1 Score\")\n",
    "plt.xlabel(\"Noise σ\")\n",
    "plt.ylabel(\"Score (%)\")\n",
    "plt.title(\"QA Performance vs Noise Level\")\n",
    "plt.legend()\n",
    "plt.show()\n"
   ]
  },
  {
   "cell_type": "code",
   "execution_count": null,
   "id": "6b1eb0b9-df62-4807-a4c1-ef68ce9a8297",
   "metadata": {},
   "outputs": [],
   "source": [
    "!pip install"
   ]
  },
  {
   "cell_type": "code",
   "execution_count": 13,
   "id": "9bb025ee-bfe3-4e4d-80eb-32eeb5ee011c",
   "metadata": {
    "tags": []
   },
   "outputs": [],
   "source": [
    "import numpy as np\n",
    "import pandas as pd\n",
    "from datasets import load_dataset\n",
    "from rank_bm25 import BM25Okapi\n",
    "from transformers import pipeline\n",
    "import evaluate\n",
    "\n"
   ]
  },
  {
   "cell_type": "code",
   "execution_count": 14,
   "id": "e6a76dd1-4b34-4cbe-b07a-ef0b5b93d093",
   "metadata": {
    "tags": []
   },
   "outputs": [],
   "source": [
    "def load_squad_dataframe(split=\"train\"):\n",
    "    ds = load_dataset(\"squad\", split=split)\n",
    "    rows = []\n",
    "    for ex in ds:\n",
    "        rows.append({\n",
    "            \"question\": ex[\"question\"],\n",
    "            \"context\": ex[\"context\"],\n",
    "            \"answers\": ex[\"answers\"][\"text\"]\n",
    "        })\n",
    "    return pd.DataFrame(rows)\n",
    "\n",
    "def build_bm25_index(df):\n",
    "    # simple tokenization by whitespace\n",
    "    tokenized_corpus = [doc.lower().split() for doc in df[\"context\"].tolist()]\n",
    "    bm25 = BM25Okapi(tokenized_corpus)\n",
    "    return bm25\n",
    "\n",
    "def noisy_retrieve_bm25(query, bm25, k=5, sigma=0.0):\n",
    "    tokenized_query = query.lower().split()\n",
    "    scores = np.array(bm25.get_scores(tokenized_query))\n",
    "    noise = np.random.randn(scores.shape[0]) * sigma\n",
    "    noisy_scores = scores + noise\n",
    "    topk = np.argsort(-noisy_scores)[:k]\n",
    "    return topk, noisy_scores[topk]\n",
    "\n",
    "def evaluate_retrieval(df, bm25, k=5, sigma=0.0, sample_size=500):\n",
    "    sample = df.sample(min(sample_size, len(df)), random_state=42)\n",
    "    hits, rr_sum = 0, 0.0\n",
    "    for _, row in sample.iterrows():\n",
    "        idxs, _ = noisy_retrieve_bm25(row[\"question\"], bm25, k=k, sigma=sigma)\n",
    "        gold = row[\"context\"]\n",
    "        ranks = [r+1 for r, ix in enumerate(idxs) if df.iloc[ix][\"context\"] == gold]\n",
    "        if ranks:\n",
    "            hits += 1\n",
    "            rr_sum += 1.0 / ranks[0]\n",
    "    return hits / len(sample), rr_sum / len(sample)\n",
    "\n",
    "def evaluate_qa(df, bm25, sigmas=[0.0, 0.05, 0.1], k=5, sample_size=200):\n",
    "    squad_metric = evaluate.load(\"squad\")\n",
    "    rouge = evaluate.load(\"rouge\")\n",
    "    bleu = evaluate.load(\"bleu\")\n",
    "    qa_pipe = pipeline(\n",
    "        \"question-answering\",\n",
    "        model=\"distilbert-base-cased-distilled-squad\",\n",
    "        tokenizer=\"distilbert-base-cased-distilled-squad\"\n",
    "    )\n",
    "\n",
    "    results = {}\n",
    "    base_sample = df.sample(min(sample_size, len(df)), random_state=0)\n",
    "    for sigma in sigmas:\n",
    "        # Prepare QA predictions and refs\n",
    "        preds_em, refs_em = [], []\n",
    "        preds_texts, refs_texts = [], []\n",
    "        for idx, row in base_sample.iterrows():\n",
    "            idxs, _ = noisy_retrieve_bm25(row[\"question\"], bm25, k=k, sigma=sigma)\n",
    "            combined_context = \" \".join(df.iloc[idxs][\"context\"].tolist())\n",
    "            ans = qa_pipe(question=row[\"question\"], context=combined_context)[\"answer\"]\n",
    "\n",
    "            preds_em.append({\"id\": str(idx), \"prediction_text\": ans})\n",
    "            refs_em.append({\n",
    "                \"id\": str(idx),\n",
    "                \"answers\": {\"text\": row[\"answers\"], \"answer_start\": [0]*len(row[\"answers\"])}\n",
    "            })\n",
    "            preds_texts.append(ans)\n",
    "            # for Rouge/BLEU, pick first reference\n",
    "            refs_texts.append(row[\"answers\"][0] if row[\"answers\"] else \"\")\n",
    "\n",
    "        emf1 = squad_metric.compute(predictions=preds_em, references=refs_em)\n",
    "        rouge_res = rouge.compute(predictions=preds_texts, references=refs_texts)\n",
    "        bleu_res = bleu.compute(predictions=preds_texts, references=refs_texts)\n",
    "\n",
    "        # also get retrieval metrics\n",
    "        hit, mrr = evaluate_retrieval(df, bm25, k=k, sigma=sigma)\n",
    "\n",
    "        results[sigma] = {\n",
    "            \"hit@5\": hit,\n",
    "            \"MRR\": mrr,\n",
    "            \"Exact Match\": emf1[\"exact_match\"],\n",
    "            \"F1\": emf1[\"f1\"],\n",
    "            \"ROUGE-L\": rouge_res[\"rougeL\"],\n",
    "            \"BLEU\": bleu_res[\"bleu\"]\n",
    "        }\n",
    "    return results\n",
    "\n",
    "\n",
    "\n"
   ]
  },
  {
   "cell_type": "code",
   "execution_count": 15,
   "id": "2c2e5443-7aaf-4dad-9984-8e0e711d0601",
   "metadata": {
    "tags": []
   },
   "outputs": [
    {
     "name": "stdout",
     "output_type": "stream",
     "text": [
      "Loading SQuAD dataset…\n",
      "Loaded 87599 examples.\n",
      "\n",
      "Building BM25 index…\n",
      "Retrieval‐only evaluation (hit@5 & MRR):\n",
      "σ=0.00 → hit@5: 0.544, MRR: 0.522\n",
      "σ=0.05 → hit@5: 0.544, MRR: 0.519\n",
      "σ=0.10 → hit@5: 0.552, MRR: 0.525\n",
      "\n",
      "End‐to‐end evaluation (EM, F1, ROUGE-L, BLEU):\n"
     ]
    },
    {
     "name": "stderr",
     "output_type": "stream",
     "text": [
      "Device set to use cuda:0\n"
     ]
    },
    {
     "name": "stdout",
     "output_type": "stream",
     "text": [
      "σ=0.00 → EM: 38.00, F1: 45.50, ROUGE-L: 0.45, BLEU: 0.22\n",
      "σ=0.05 → EM: 39.00, F1: 46.57, ROUGE-L: 0.47, BLEU: 0.21\n",
      "σ=0.10 → EM: 39.50, F1: 47.21, ROUGE-L: 0.47, BLEU: 0.22\n",
      "\n"
     ]
    }
   ],
   "source": [
    "def main():\n",
    "    print(\"Loading SQuAD dataset…\")\n",
    "    df = load_squad_dataframe(\"train\")\n",
    "    print(f\"Loaded {len(df)} examples.\\n\")\n",
    "\n",
    "    print(\"Building BM25 index…\")\n",
    "    bm25 = build_bm25_index(df)\n",
    "\n",
    "    print(\"Retrieval‐only evaluation (hit@5 & MRR):\")\n",
    "    for sigma in [0.0, 0.05, 0.1]:\n",
    "        hit, mrr = evaluate_retrieval(df, bm25, k=5, sigma=sigma)\n",
    "        print(f\"σ={sigma:.2f} → hit@5: {hit:.3f}, MRR: {mrr:.3f}\")\n",
    "    print()\n",
    "\n",
    "    print(\"End‐to‐end evaluation (EM, F1, ROUGE-L, BLEU):\")\n",
    "    results = evaluate_qa(df, bm25, sigmas=[0.0, 0.05, 0.1], k=5)\n",
    "    for sigma, res in results.items():\n",
    "        print(f\"σ={sigma:.2f} →\", \n",
    "              f\"EM: {res['Exact Match']:.2f},\",\n",
    "              f\"F1: {res['F1']:.2f},\",\n",
    "              f\"ROUGE-L: {res['ROUGE-L']:.2f},\",\n",
    "              f\"BLEU: {res['BLEU']:.2f}\")\n",
    "    print()\n",
    "\n",
    "if __name__ == \"__main__\":\n",
    "    main()"
   ]
  },
  {
   "cell_type": "code",
   "execution_count": 16,
   "id": "0f81d962-126b-4243-abd3-d3f68e6b0984",
   "metadata": {
    "tags": []
   },
   "outputs": [
    {
     "ename": "ModuleNotFoundError",
     "evalue": "No module named 'ace_tools'",
     "output_type": "error",
     "traceback": [
      "\u001b[0;31m---------------------------------------------------------------------------\u001b[0m",
      "\u001b[0;31mModuleNotFoundError\u001b[0m                       Traceback (most recent call last)",
      "Cell \u001b[0;32mIn[16], line 3\u001b[0m\n\u001b[1;32m      1\u001b[0m \u001b[38;5;28;01mimport\u001b[39;00m \u001b[38;5;21;01mpandas\u001b[39;00m \u001b[38;5;28;01mas\u001b[39;00m \u001b[38;5;21;01mpd\u001b[39;00m\n\u001b[1;32m      2\u001b[0m \u001b[38;5;28;01mimport\u001b[39;00m \u001b[38;5;21;01mmatplotlib\u001b[39;00m\u001b[38;5;21;01m.\u001b[39;00m\u001b[38;5;21;01mpyplot\u001b[39;00m \u001b[38;5;28;01mas\u001b[39;00m \u001b[38;5;21;01mplt\u001b[39;00m\n\u001b[0;32m----> 3\u001b[0m \u001b[38;5;28;01mimport\u001b[39;00m \u001b[38;5;21;01mace_tools\u001b[39;00m \u001b[38;5;28;01mas\u001b[39;00m \u001b[38;5;21;01mtools\u001b[39;00m\n\u001b[1;32m      5\u001b[0m \u001b[38;5;66;03m# Define the retrieval-only metrics\u001b[39;00m\n\u001b[1;32m      6\u001b[0m metrics \u001b[38;5;241m=\u001b[39m {\n\u001b[1;32m      7\u001b[0m     \u001b[38;5;241m0.00\u001b[39m: {\u001b[38;5;124m\"\u001b[39m\u001b[38;5;124mhit@5\u001b[39m\u001b[38;5;124m\"\u001b[39m: \u001b[38;5;241m0.544\u001b[39m, \u001b[38;5;124m\"\u001b[39m\u001b[38;5;124mMRR\u001b[39m\u001b[38;5;124m\"\u001b[39m: \u001b[38;5;241m0.522\u001b[39m},\n\u001b[1;32m      8\u001b[0m     \u001b[38;5;241m0.05\u001b[39m: {\u001b[38;5;124m\"\u001b[39m\u001b[38;5;124mhit@5\u001b[39m\u001b[38;5;124m\"\u001b[39m: \u001b[38;5;241m0.544\u001b[39m, \u001b[38;5;124m\"\u001b[39m\u001b[38;5;124mMRR\u001b[39m\u001b[38;5;124m\"\u001b[39m: \u001b[38;5;241m0.519\u001b[39m},\n\u001b[1;32m      9\u001b[0m     \u001b[38;5;241m0.10\u001b[39m: {\u001b[38;5;124m\"\u001b[39m\u001b[38;5;124mhit@5\u001b[39m\u001b[38;5;124m\"\u001b[39m: \u001b[38;5;241m0.552\u001b[39m, \u001b[38;5;124m\"\u001b[39m\u001b[38;5;124mMRR\u001b[39m\u001b[38;5;124m\"\u001b[39m: \u001b[38;5;241m0.525\u001b[39m},\n\u001b[1;32m     10\u001b[0m }\n",
      "\u001b[0;31mModuleNotFoundError\u001b[0m: No module named 'ace_tools'"
     ]
    }
   ],
   "source": [
    "import pandas as pd\n",
    "import matplotlib.pyplot as plt\n",
    "import ace_tools as tools\n",
    "\n",
    "# Define the retrieval-only metrics\n",
    "metrics = {\n",
    "    0.00: {\"hit@5\": 0.544, \"MRR\": 0.522},\n",
    "    0.05: {\"hit@5\": 0.544, \"MRR\": 0.519},\n",
    "    0.10: {\"hit@5\": 0.552, \"MRR\": 0.525},\n",
    "}\n",
    "\n",
    "\n"
   ]
  },
  {
   "cell_type": "code",
   "execution_count": null,
   "id": "fcf6be5c-20fc-4f62-b289-f9a9ef545887",
   "metadata": {},
   "outputs": [],
   "source": [
    "# Create a DataFrame\n",
    "df_retrieval = pd.DataFrame(metrics).T.reset_index().rename(columns={\"index\": \"sigma\"})\n",
    "\n",
    "# Display table\n",
    "tools.display_dataframe_to_user(name=\"Retrieval‐only Evaluation Metrics\", dataframe=df_retrieval)\n",
    "\n",
    "# Plot hit@5 and MRR vs noise level\n",
    "plt.figure()\n",
    "plt.plot(df_retrieval[\"sigma\"], df_retrieval[\"hit@5\"], label=\"hit@5\")\n",
    "plt.plot(df_retrieval[\"sigma\"], df_retrieval[\"MRR\"], label=\"MRR\")\n",
    "plt.xlabel(\"Noise σ\")\n",
    "plt.ylabel(\"Score\")\n",
    "plt.title(\"Retrieval Performance vs Noise Level\")\n",
    "plt.legend()\n",
    "plt.show()"
   ]
  }
 ],
 "metadata": {
  "kernelspec": {
   "display_name": "Python 3 (ipykernel)",
   "language": "python",
   "name": "python3"
  },
  "language_info": {
   "codemirror_mode": {
    "name": "ipython",
    "version": 3
   },
   "file_extension": ".py",
   "mimetype": "text/x-python",
   "name": "python",
   "nbconvert_exporter": "python",
   "pygments_lexer": "ipython3",
   "version": "3.11.5"
  }
 },
 "nbformat": 4,
 "nbformat_minor": 5
}
